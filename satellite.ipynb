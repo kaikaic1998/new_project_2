{
 "cells": [
  {
   "cell_type": "markdown",
   "metadata": {},
   "source": [
    "# Segment Anything Model for Geospatial Data \n",
    "\n",
    "[![image](https://studiolab.sagemaker.aws/studiolab.svg)](https://studiolab.sagemaker.aws/import/github/opengeos/segment-geospatial/blob/main/docs/examples/satellite.ipynb)\n",
    "[![image](https://img.shields.io/badge/Open-Planetary%20Computer-black?style=flat&logo=microsoft)](https://pccompute.westeurope.cloudapp.azure.com/compute/hub/user-redirect/git-pull?repo=https://github.com/opengeos/segment-geospatial&urlpath=lab/tree/segment-geospatial/docs/examples/satellite.ipynb&branch=main)\n",
    "[![image](https://colab.research.google.com/assets/colab-badge.svg)](https://colab.research.google.com/github/opengeos/segment-geospatial/blob/main/docs/examples/satellite.ipynb)\n",
    "\n",
    "This notebook shows how to use segment satellite imagery using the Segment Anything Model (SAM) with a few lines of code. \n",
    "\n",
    "Make sure you use GPU runtime for this notebook. For Google Colab, go to `Runtime` -> `Change runtime type` and select `GPU` as the hardware accelerator. "
   ]
  },
  {
   "cell_type": "markdown",
   "metadata": {},
   "source": [
    "## Install dependencies\n",
    "\n",
    "Uncomment and run the following cell to install the required dependencies.\n"
   ]
  },
  {
   "cell_type": "code",
   "execution_count": 1,
   "metadata": {
    "colab": {
     "base_uri": "https://localhost:8080/"
    },
    "outputId": "6924c5c8-39a0-4ac6-f114-9f1f8d102e88"
   },
   "outputs": [],
   "source": [
    "# %pip install segment-geospatial"
   ]
  },
  {
   "cell_type": "markdown",
   "metadata": {},
   "source": [
    "## Import libraries"
   ]
  },
  {
   "cell_type": "code",
   "execution_count": 2,
   "metadata": {},
   "outputs": [],
   "source": [
    "import os\n",
    "import leafmap\n",
    "from samgeo import SamGeo, tms_to_geotiff, get_basemaps"
   ]
  },
  {
   "cell_type": "markdown",
   "metadata": {},
   "source": [
    "## Create an interactive map"
   ]
  },
  {
   "cell_type": "code",
   "execution_count": 3,
   "metadata": {},
   "outputs": [
    {
     "data": {
      "application/vnd.jupyter.widget-view+json": {
       "model_id": "183696c8d536497ea757106a8247e42d",
       "version_major": 2,
       "version_minor": 0
      },
      "text/plain": [
       "Map(center=[29.67684, -95.369222], controls=(ZoomControl(options=['position', 'zoom_in_text', 'zoom_in_title',…"
      ]
     },
     "execution_count": 3,
     "metadata": {},
     "output_type": "execute_result"
    }
   ],
   "source": [
    "m = leafmap.Map(center=[29.676840, -95.369222], zoom=19)\n",
    "m.add_basemap(\"SATELLITE\")\n",
    "m"
   ]
  },
  {
   "cell_type": "markdown",
   "metadata": {},
   "source": [
    "Pan and zoom the map to select the area of interest. Use the draw tools to draw a polygon or rectangle on the map"
   ]
  },
  {
   "cell_type": "code",
   "execution_count": 4,
   "metadata": {},
   "outputs": [],
   "source": [
    "if m.user_roi_bounds() is not None:\n",
    "    bbox = m.user_roi_bounds()\n",
    "else:\n",
    "    bbox = [-95.3704, 29.6762, -95.368, 29.6775]"
   ]
  },
  {
   "cell_type": "markdown",
   "metadata": {},
   "source": [
    "## Download map tiles\n",
    "\n",
    "Download maps tiles and mosaic them into a single GeoTIFF file"
   ]
  },
  {
   "cell_type": "code",
   "execution_count": 5,
   "metadata": {},
   "outputs": [],
   "source": [
    "image = \"satellite.tif\""
   ]
  },
  {
   "cell_type": "markdown",
   "metadata": {},
   "source": [
    "Besides the `satellite` basemap, you can use any of the following basemaps returned by the `get_basemaps()` function:"
   ]
  },
  {
   "cell_type": "code",
   "execution_count": 6,
   "metadata": {},
   "outputs": [
    {
     "data": {
      "text/plain": [
       "dict_keys(['BasemapAT.basemap', 'BasemapAT.grau', 'BasemapAT.highdpi', 'BasemapAT.orthofoto', 'BasemapAT.overlay', 'BasemapAT.surface', 'BasemapAT.terrain', 'CartoDB.DarkMatter', 'CartoDB.DarkMatterNoLabels', 'CartoDB.DarkMatterOnlyLabels', 'CartoDB.Positron', 'CartoDB.PositronNoLabels', 'CartoDB.PositronOnlyLabels', 'CartoDB.Voyager', 'CartoDB.VoyagerLabelsUnder', 'CartoDB.VoyagerNoLabels', 'CartoDB.VoyagerOnlyLabels', 'CyclOSM', 'Esri.AntarcticBasemap', 'Esri.AntarcticImagery', 'Esri.ArcticImagery', 'Esri.ArcticOceanBase', 'Esri.ArcticOceanReference', 'Esri.DeLorme', 'Esri.NatGeoWorldMap', 'Esri.OceanBasemap', 'Esri.WorldGrayCanvas', 'Esri.WorldImagery', 'Esri.WorldPhysical', 'Esri.WorldShadedRelief', 'Esri.WorldStreetMap', 'Esri.WorldTerrain', 'Esri.WorldTopoMap', 'FreeMapSK', 'Gaode.Normal', 'Gaode.Satellite', 'GeoportailFrance.Adminexpress_cog_Latest', 'GeoportailFrance.Adminexpress_cog_carto_Latest', 'GeoportailFrance.Areamanagement_Zfu', 'GeoportailFrance.Areamanagement_Zus', 'GeoportailFrance.Bdcarto_etat_major_Niveau3', 'GeoportailFrance.Bdcarto_etat_major_Niveau4', 'GeoportailFrance.Buildings_Buildings', 'GeoportailFrance.Communes_Prioritydisctrict', 'GeoportailFrance.Debroussaillement', 'GeoportailFrance.Dreal_Zonage_pinel', 'GeoportailFrance.Elevation_Contour_Line', 'GeoportailFrance.Elevation_Elevationgridcoverage_Shadow', 'GeoportailFrance.Elevation_Elevationgridcoverage_Threshold', 'GeoportailFrance.Elevation_Level0', 'GeoportailFrance.Elevation_Slopes', 'GeoportailFrance.Elevationgridcoverage_Highres_Quality', 'GeoportailFrance.Forets_Publiques', 'GeoportailFrance.Geographicalgridsystem_Dfci', 'GeoportailFrance.Geographicalgridsystems_1900typemaps', 'GeoportailFrance.Geographicalgridsystems_Bonne', 'GeoportailFrance.Geographicalgridsystems_Etatmajor10', 'GeoportailFrance.Geographicalgridsystems_Etatmajor40', 'GeoportailFrance.Geographicalgridsystems_Maps_Bduni_J1', 'GeoportailFrance.Geographicalgridsystems_Maps_Overview', 'GeoportailFrance.Geographicalgridsystems_Maps_Scan50_1950', 'GeoportailFrance.Geographicalgridsystems_Slopes_Mountain', 'GeoportailFrance.Geographicalgridsystems_Slopes_Pac', 'GeoportailFrance.Geographicalgridsystems_Terrier_v1', 'GeoportailFrance.Geographicalgridsystems_Terrier_v2', 'GeoportailFrance.Geographicalnames_Names', 'GeoportailFrance.Hedge_Hedge', 'GeoportailFrance.Hr_Orthoimagery_Orthophotos', 'GeoportailFrance.Hydrography_Bcae_Latest', 'GeoportailFrance.Hydrography_Hydrography', 'GeoportailFrance.Insee_Filosofi_Enfants_0_17_Ans_Secret', 'GeoportailFrance.Insee_Filosofi_Logements_Surface_Moyenne_Secret', 'GeoportailFrance.Insee_Filosofi_Niveau_De_Vie_Secret', 'GeoportailFrance.Insee_Filosofi_Part_Familles_Monoparentales_Secret', 'GeoportailFrance.Insee_Filosofi_Part_Individus_25_39_Ans_Secret', 'GeoportailFrance.Insee_Filosofi_Part_Individus_40_54_Ans_Secret', 'GeoportailFrance.Insee_Filosofi_Part_Individus_55_64_Ans_Secret', 'GeoportailFrance.Insee_Filosofi_Part_Logements_Apres_1990_Secret', 'GeoportailFrance.Insee_Filosofi_Part_Logements_Avant_1945_Secret', 'GeoportailFrance.Insee_Filosofi_Part_Logements_Collectifs_Secret', 'GeoportailFrance.Insee_Filosofi_Part_Logements_Construits_1945_1970_Secret', 'GeoportailFrance.Insee_Filosofi_Part_Logements_Construits_1970_1990_Secret', 'GeoportailFrance.Insee_Filosofi_Part_Logements_Sociaux_Secret', 'GeoportailFrance.Insee_Filosofi_Part_Menages_1_Personne_Secret', 'GeoportailFrance.Insee_Filosofi_Part_Menages_5_Personnes_Ouplus_Secret', 'GeoportailFrance.Insee_Filosofi_Part_Menages_Maison_Secret', 'GeoportailFrance.Insee_Filosofi_Part_Menages_Pauvres_Secret', 'GeoportailFrance.Insee_Filosofi_Part_Menages_Proprietaires_Secret', 'GeoportailFrance.Insee_Filosofi_Part_Plus_65_Ans_Secret', 'GeoportailFrance.Insee_Filosofi_Population', 'GeoportailFrance.Landcover_Cha00_fr', 'GeoportailFrance.Landcover_Cha06_dom', 'GeoportailFrance.Landcover_Cha06_fr', 'GeoportailFrance.Landcover_Cha12_dom', 'GeoportailFrance.Landcover_Cha12_fr', 'GeoportailFrance.Landcover_Cha18', 'GeoportailFrance.Landcover_Cha18_dom', 'GeoportailFrance.Landcover_Cha18_fr', 'GeoportailFrance.Landcover_Clc00_dom', 'GeoportailFrance.Landcover_Clc00_fr', 'GeoportailFrance.Landcover_Clc00r_fr', 'GeoportailFrance.Landcover_Clc06_dom', 'GeoportailFrance.Landcover_Clc06_fr', 'GeoportailFrance.Landcover_Clc06r_dom', 'GeoportailFrance.Landcover_Clc06r_fr', 'GeoportailFrance.Landcover_Clc12', 'GeoportailFrance.Landcover_Clc12_dom', 'GeoportailFrance.Landcover_Clc12_fr', 'GeoportailFrance.Landcover_Clc12r', 'GeoportailFrance.Landcover_Clc12r_dom', 'GeoportailFrance.Landcover_Clc12r_fr', 'GeoportailFrance.Landcover_Clc18', 'GeoportailFrance.Landcover_Clc18_dom', 'GeoportailFrance.Landcover_Clc18_fr', 'GeoportailFrance.Landcover_Clc90_fr', 'GeoportailFrance.Landcover_Forestareas', 'GeoportailFrance.Landcover_Forestinventory_V1', 'GeoportailFrance.Landcover_Forestinventory_V2', 'GeoportailFrance.Landcover_Grid_Clc00', 'GeoportailFrance.Landcover_Grid_Clc00_dom', 'GeoportailFrance.Landcover_Grid_Clc00_fr', 'GeoportailFrance.Landcover_Grid_Clc00r_fr', 'GeoportailFrance.Landcover_Grid_Clc06', 'GeoportailFrance.Landcover_Grid_Clc06_dom', 'GeoportailFrance.Landcover_Grid_Clc06_fr', 'GeoportailFrance.Landcover_Grid_Clc06r', 'GeoportailFrance.Landcover_Grid_Clc06r_dom', 'GeoportailFrance.Landcover_Grid_Clc06r_fr', 'GeoportailFrance.Landcover_Grid_Clc12', 'GeoportailFrance.Landcover_Grid_Clc90_fr', 'GeoportailFrance.Landcover_Hr_Dlt_Clc12', 'GeoportailFrance.Landcover_Hr_Dlt_Clc15', 'GeoportailFrance.Landcover_Hr_Gra_Clc15', 'GeoportailFrance.Landcover_Hr_Imd_Clc12', 'GeoportailFrance.Landcover_Hr_Imd_Clc15', 'GeoportailFrance.Landcover_Hr_Tcd_Clc12', 'GeoportailFrance.Landcover_Hr_Tcd_Clc15', 'GeoportailFrance.Landcover_Hr_Waw_Clc15', 'GeoportailFrance.Landcover_Sylvoecoregions', 'GeoportailFrance.Landcover_Sylvoecoregions_Alluvium', 'GeoportailFrance.Landuse_Agriculture2007', 'GeoportailFrance.Landuse_Agriculture2008', 'GeoportailFrance.Landuse_Agriculture2009', 'GeoportailFrance.Landuse_Agriculture2010', 'GeoportailFrance.Landuse_Agriculture2011', 'GeoportailFrance.Landuse_Agriculture2012', 'GeoportailFrance.Landuse_Agriculture2013', 'GeoportailFrance.Landuse_Agriculture2014', 'GeoportailFrance.Landuse_Agriculture2015', 'GeoportailFrance.Landuse_Agriculture2016', 'GeoportailFrance.Landuse_Agriculture2017', 'GeoportailFrance.Landuse_Agriculture2018', 'GeoportailFrance.Landuse_Agriculture2019', 'GeoportailFrance.Landuse_Agriculture2020', 'GeoportailFrance.Landuse_Agriculture2021', 'GeoportailFrance.Landuse_Agriculture_Latest', 'GeoportailFrance.Limites_administratives_express_Latest', 'GeoportailFrance.Ocsge_Constructions', 'GeoportailFrance.Ocsge_Constructions_2002', 'GeoportailFrance.Ocsge_Constructions_2010', 'GeoportailFrance.Ocsge_Constructions_2011', 'GeoportailFrance.Ocsge_Constructions_2014', 'GeoportailFrance.Ocsge_Constructions_2016', 'GeoportailFrance.Ocsge_Constructions_2017', 'GeoportailFrance.Ocsge_Constructions_2019', 'GeoportailFrance.Ocsge_Couverture', 'GeoportailFrance.Ocsge_Couverture_2002', 'GeoportailFrance.Ocsge_Couverture_2010', 'GeoportailFrance.Ocsge_Couverture_2011', 'GeoportailFrance.Ocsge_Couverture_2014', 'GeoportailFrance.Ocsge_Couverture_2016', 'GeoportailFrance.Ocsge_Couverture_2017', 'GeoportailFrance.Ocsge_Couverture_2019', 'GeoportailFrance.Ocsge_Usage', 'GeoportailFrance.Ocsge_Usage_2002', 'GeoportailFrance.Ocsge_Usage_2010', 'GeoportailFrance.Ocsge_Usage_2011', 'GeoportailFrance.Ocsge_Usage_2014', 'GeoportailFrance.Ocsge_Usage_2016', 'GeoportailFrance.Ocsge_Usage_2017', 'GeoportailFrance.Ocsge_Usage_2019', 'GeoportailFrance.Ocsge_Visu_2016', 'GeoportailFrance.Ocsge_Visu_2019', 'GeoportailFrance.Orthoimagery_Ortho_sat_Pleiades_2012', 'GeoportailFrance.Orthoimagery_Ortho_sat_Pleiades_2013', 'GeoportailFrance.Orthoimagery_Ortho_sat_Pleiades_2014', 'GeoportailFrance.Orthoimagery_Ortho_sat_Pleiades_2015', 'GeoportailFrance.Orthoimagery_Ortho_sat_Pleiades_2016', 'GeoportailFrance.Orthoimagery_Ortho_sat_Pleiades_2017', 'GeoportailFrance.Orthoimagery_Ortho_sat_Pleiades_2018', 'GeoportailFrance.Orthoimagery_Ortho_sat_Pleiades_2019', 'GeoportailFrance.Orthoimagery_Ortho_sat_Pleiades_2020', 'GeoportailFrance.Orthoimagery_Ortho_sat_Pleiades_2021', 'GeoportailFrance.Orthoimagery_Ortho_sat_Pleiades_2022', 'GeoportailFrance.Orthoimagery_Ortho_sat_Rapideye_2010', 'GeoportailFrance.Orthoimagery_Ortho_sat_Rapideye_2011', 'GeoportailFrance.Orthoimagery_Ortho_sat_Spot_2013', 'GeoportailFrance.Orthoimagery_Ortho_sat_Spot_2014', 'GeoportailFrance.Orthoimagery_Ortho_sat_Spot_2015', 'GeoportailFrance.Orthoimagery_Ortho_sat_Spot_2016', 'GeoportailFrance.Orthoimagery_Ortho_sat_Spot_2017', 'GeoportailFrance.Orthoimagery_Ortho_sat_Spot_2018', 'GeoportailFrance.Orthoimagery_Ortho_sat_Spot_2019', 'GeoportailFrance.Orthoimagery_Ortho_sat_Spot_2020', 'GeoportailFrance.Orthoimagery_Ortho_sat_Spot_2021', 'GeoportailFrance.Orthoimagery_Orthophos_Restrictedareas', 'GeoportailFrance.Orthoimagery_Orthophotos2000', 'GeoportailFrance.Orthoimagery_Orthophotos2000_2005', 'GeoportailFrance.Orthoimagery_Orthophotos2001', 'GeoportailFrance.Orthoimagery_Orthophotos2002', 'GeoportailFrance.Orthoimagery_Orthophotos2003', 'GeoportailFrance.Orthoimagery_Orthophotos2004', 'GeoportailFrance.Orthoimagery_Orthophotos2005', 'GeoportailFrance.Orthoimagery_Orthophotos2006', 'GeoportailFrance.Orthoimagery_Orthophotos2006_2010', 'GeoportailFrance.Orthoimagery_Orthophotos2007', 'GeoportailFrance.Orthoimagery_Orthophotos2008', 'GeoportailFrance.Orthoimagery_Orthophotos2009', 'GeoportailFrance.Orthoimagery_Orthophotos2010', 'GeoportailFrance.Orthoimagery_Orthophotos2011', 'GeoportailFrance.Orthoimagery_Orthophotos2011_2015', 'GeoportailFrance.Orthoimagery_Orthophotos2012', 'GeoportailFrance.Orthoimagery_Orthophotos2013', 'GeoportailFrance.Orthoimagery_Orthophotos2014', 'GeoportailFrance.Orthoimagery_Orthophotos2015', 'GeoportailFrance.Orthoimagery_Orthophotos2016', 'GeoportailFrance.Orthoimagery_Orthophotos2017', 'GeoportailFrance.Orthoimagery_Orthophotos2018', 'GeoportailFrance.Orthoimagery_Orthophotos2019', 'GeoportailFrance.Orthoimagery_Orthophotos2020', 'GeoportailFrance.Orthoimagery_Orthophotos_1950_1965', 'GeoportailFrance.Orthoimagery_Orthophotos_1980_1995', 'GeoportailFrance.Orthoimagery_Orthophotos_Bdortho', 'GeoportailFrance.Orthoimagery_Orthophotos_Coast2000', 'GeoportailFrance.Orthoimagery_Orthophotos_Ilesdunord', 'GeoportailFrance.Orthoimagery_Orthophotos_Irc', 'GeoportailFrance.Orthoimagery_Orthophotos_Irc_2013', 'GeoportailFrance.Orthoimagery_Orthophotos_Irc_2014', 'GeoportailFrance.Orthoimagery_Orthophotos_Irc_2015', 'GeoportailFrance.Orthoimagery_Orthophotos_Irc_2016', 'GeoportailFrance.Orthoimagery_Orthophotos_Irc_2017', 'GeoportailFrance.Orthoimagery_Orthophotos_Irc_2018', 'GeoportailFrance.Orthoimagery_Orthophotos_Irc_2019', 'GeoportailFrance.Orthoimagery_Orthophotos_Irc_2020', 'GeoportailFrance.Orthoimagery_Orthophotos_Irc_express_2021', 'GeoportailFrance.Orthoimagery_Orthophotos_Irc_express_2022', 'GeoportailFrance.Orthoimagery_Orthophotos_Irc_express_2023', 'GeoportailFrance.Orthoimagery_Orthophotos_Ortho_asp_pac2020', 'GeoportailFrance.Orthoimagery_Orthophotos_Ortho_asp_pac2021', 'GeoportailFrance.Orthoimagery_Orthophotos_Ortho_asp_pac2022', 'GeoportailFrance.Orthoimagery_Orthophotos_Ortho_asp_pac2023', 'GeoportailFrance.Orthoimagery_Orthophotos_Ortho_express_2021', 'GeoportailFrance.Orthoimagery_Orthophotos_Ortho_express_2022', 'GeoportailFrance.Orthoimagery_Orthophotos_Ortho_express_2023', 'GeoportailFrance.Orthoimagery_Orthophotos_Socle_asp_2018', 'GeoportailFrance.Orthoimagery_Orthophotos_Urgence_Alex', 'GeoportailFrance.Pcrs_Lamb93', 'GeoportailFrance.Prairies_Sensibles_Bcae', 'GeoportailFrance.Protectedareas_Apb', 'GeoportailFrance.Protectedareas_Apg', 'GeoportailFrance.Protectedareas_Aphn', 'GeoportailFrance.Protectedareas_Aplg', 'GeoportailFrance.Protectedareas_Bios', 'GeoportailFrance.Protectedareas_Gp', 'GeoportailFrance.Protectedareas_Inpg', 'GeoportailFrance.Protectedareas_Mnhn_Cdl_Parcels', 'GeoportailFrance.Protectedareas_Mnhn_Cdl_Perimeter', 'GeoportailFrance.Protectedareas_Mnhn_Conservatoires', 'GeoportailFrance.Protectedareas_Mnhn_Rn_Perimeter', 'GeoportailFrance.Protectedareas_Pn', 'GeoportailFrance.Protectedareas_Pnm', 'GeoportailFrance.Protectedareas_Pnr', 'GeoportailFrance.Protectedareas_Prsf', 'GeoportailFrance.Protectedareas_Ramsar', 'GeoportailFrance.Protectedareas_Rb', 'GeoportailFrance.Protectedareas_Ripn', 'GeoportailFrance.Protectedareas_Rn', 'GeoportailFrance.Protectedareas_Rnc', 'GeoportailFrance.Protectedareas_Rncf', 'GeoportailFrance.Protectedareas_Sic', 'GeoportailFrance.Protectedareas_Znieff1', 'GeoportailFrance.Protectedareas_Znieff1_Sea', 'GeoportailFrance.Protectedareas_Znieff2', 'GeoportailFrance.Protectedareas_Znieff2_Sea', 'GeoportailFrance.Protectedareas_Zpr', 'GeoportailFrance.Protectedareas_Zps', 'GeoportailFrance.Protectedsites_Mnhn_Reserves_regionales', 'GeoportailFrance.Securoute_Te_1te', 'GeoportailFrance.Securoute_Te_2te48', 'GeoportailFrance.Securoute_Te_All', 'GeoportailFrance.Securoute_Te_Oa', 'GeoportailFrance.Securoute_Te_Pn', 'GeoportailFrance.Securoute_Te_Pnd', 'GeoportailFrance.Securoute_Te_Te120', 'GeoportailFrance.Securoute_Te_Te72', 'GeoportailFrance.Securoute_Te_Te94', 'GeoportailFrance.Thr_Orthoimagery_Orthophotos', 'GeoportailFrance.Transportnetwork_Commontransportelements_Markerpost', 'GeoportailFrance.Transportnetworks_Railways', 'GeoportailFrance.Transportnetworks_Roads', 'GeoportailFrance.Transportnetworks_Roads_Direction', 'GeoportailFrance.Transportnetworks_Runways', 'GeoportailFrance.Transports_Drones_Restrictions', 'GeoportailFrance.Utilityandgovernmentalservices_All', 'GeoportailFrance.orthos', 'GeoportailFrance.parcels', 'GeoportailFrance.plan', 'HikeBike.HikeBike', 'HikeBike.HillShading', 'JusticeMap.americanIndian', 'JusticeMap.asian', 'JusticeMap.black', 'JusticeMap.hispanic', 'JusticeMap.income', 'JusticeMap.multi', 'JusticeMap.nonWhite', 'JusticeMap.plurality', 'JusticeMap.white', 'MtbMap', 'NASAGIBS.ASTER_GDEM_Greyscale_Shaded_Relief', 'NASAGIBS.BlueMarble', 'NASAGIBS.BlueMarble3031', 'NASAGIBS.BlueMarble3413', 'NASAGIBS.ModisAquaBands721CR', 'NASAGIBS.ModisAquaTrueColorCR', 'NASAGIBS.ModisTerraAOD', 'NASAGIBS.ModisTerraBands367CR', 'NASAGIBS.ModisTerraBands721CR', 'NASAGIBS.ModisTerraChlorophyll', 'NASAGIBS.ModisTerraLSTDay', 'NASAGIBS.ModisTerraSnowCover', 'NASAGIBS.ModisTerraTrueColorCR', 'NASAGIBS.ViirsEarthAtNight2012', 'NASAGIBS.ViirsTrueColorCR', 'NLS', 'OPNVKarte', 'OneMapSG.Default', 'OneMapSG.Grey', 'OneMapSG.LandLot', 'OneMapSG.Night', 'OneMapSG.Original', 'OpenAIP', 'OpenFireMap', 'OpenRailwayMap', 'OpenSeaMap', 'OpenSnowMap.pistes', 'OpenStreetMap.BZH', 'OpenStreetMap.BlackAndWhite', 'OpenStreetMap.CH', 'OpenStreetMap.DE', 'OpenStreetMap.France', 'OpenStreetMap.HOT', 'OpenStreetMap.Mapnik', 'OpenTopoMap', 'SafeCast', 'Stadia.AlidadeSmooth', 'Stadia.AlidadeSmoothDark', 'Stadia.OSMBright', 'Stadia.Outdoors', 'Stadia.StamenTerrain', 'Stadia.StamenTerrainBackground', 'Stadia.StamenTerrainLabels', 'Stadia.StamenTerrainLines', 'Stadia.StamenToner', 'Stadia.StamenTonerBackground', 'Stadia.StamenTonerLabels', 'Stadia.StamenTonerLines', 'Stadia.StamenTonerLite', 'Stadia.StamenWatercolor', 'Strava.All', 'Strava.Ride', 'Strava.Run', 'Strava.Water', 'Strava.Winter', 'SwissFederalGeoportal.JourneyThroughTime', 'SwissFederalGeoportal.NationalMapColor', 'SwissFederalGeoportal.NationalMapGrey', 'SwissFederalGeoportal.SWISSIMAGE', 'USGS.USImagery', 'USGS.USImageryTopo', 'USGS.USTopo', 'WaymarkedTrails.cycling', 'WaymarkedTrails.hiking', 'WaymarkedTrails.mtb', 'WaymarkedTrails.riding', 'WaymarkedTrails.skating', 'WaymarkedTrails.slopes', 'nlmaps.grijs', 'nlmaps.luchtfoto', 'nlmaps.pastel', 'nlmaps.standaard', 'nlmaps.water'])"
      ]
     },
     "execution_count": 6,
     "metadata": {},
     "output_type": "execute_result"
    }
   ],
   "source": [
    "get_basemaps().keys()"
   ]
  },
  {
   "cell_type": "markdown",
   "metadata": {},
   "source": [
    "Specify the basemap as the source."
   ]
  },
  {
   "cell_type": "code",
   "execution_count": 7,
   "metadata": {},
   "outputs": [
    {
     "name": "stdout",
     "output_type": "stream",
     "text": [
      "Downloaded image 01/40\n",
      "Downloaded image 02/40\n",
      "Downloaded image 03/40\n",
      "Downloaded image 04/40\n",
      "Downloaded image 05/40\n",
      "Downloaded image 06/40\n",
      "Downloaded image 07/40\n",
      "Downloaded image 08/40\n",
      "Downloaded image 09/40\n",
      "Downloaded image 10/40\n",
      "Downloaded image 11/40\n",
      "Downloaded image 12/40\n",
      "Downloaded image 13/40\n",
      "Downloaded image 14/40\n",
      "Downloaded image 15/40\n",
      "Downloaded image 16/40\n",
      "Downloaded image 17/40\n",
      "Downloaded image 18/40\n",
      "Downloaded image 19/40\n",
      "Downloaded image 20/40\n",
      "Downloaded image 21/40\n",
      "Downloaded image 22/40\n",
      "Downloaded image 23/40\n",
      "Downloaded image 24/40\n",
      "Downloaded image 25/40\n",
      "Downloaded image 26/40\n",
      "Downloaded image 27/40\n",
      "Downloaded image 28/40\n",
      "Downloaded image 29/40\n",
      "Downloaded image 30/40\n",
      "Downloaded image 31/40\n",
      "Downloaded image 32/40\n",
      "Downloaded image 33/40\n",
      "Downloaded image 34/40\n",
      "Downloaded image 35/40\n",
      "Downloaded image 36/40\n",
      "Downloaded image 37/40\n",
      "Downloaded image 38/40\n",
      "Downloaded image 39/40\n",
      "Downloaded image 40/40\n",
      "Saving GeoTIFF. Please wait...\n",
      "Image saved to satellite.tif\n"
     ]
    }
   ],
   "source": [
    "tms_to_geotiff(output=image, bbox=bbox, zoom=20, source=\"Satellite\", overwrite=True)"
   ]
  },
  {
   "cell_type": "markdown",
   "metadata": {},
   "source": [
    "You can also use your own image. Uncomment and run the following cell to use your own image."
   ]
  },
  {
   "cell_type": "code",
   "execution_count": 8,
   "metadata": {},
   "outputs": [],
   "source": [
    "# image = '/path/to/your/own/image.tif'"
   ]
  },
  {
   "cell_type": "markdown",
   "metadata": {},
   "source": [
    "Display the downloaded image on the map."
   ]
  },
  {
   "cell_type": "code",
   "execution_count": 9,
   "metadata": {},
   "outputs": [
    {
     "data": {
      "application/vnd.jupyter.widget-view+json": {
       "model_id": "183696c8d536497ea757106a8247e42d",
       "version_major": 2,
       "version_minor": 0
      },
      "text/plain": [
       "Map(center=[29.67684, -95.369222], controls=(ZoomControl(options=['position', 'zoom_in_text', 'zoom_in_title',…"
      ]
     },
     "execution_count": 9,
     "metadata": {},
     "output_type": "execute_result"
    }
   ],
   "source": [
    "m.layers[-1].visible = False  # turn off the basemap\n",
    "m.add_raster(image, layer_name=\"Image\")\n",
    "m"
   ]
  },
  {
   "cell_type": "markdown",
   "metadata": {},
   "source": [
    "![](https://i.imgur.com/KAm84IY.png)"
   ]
  },
  {
   "cell_type": "markdown",
   "metadata": {},
   "source": [
    "## Initialize SAM class"
   ]
  },
  {
   "cell_type": "code",
   "execution_count": 10,
   "metadata": {},
   "outputs": [],
   "source": [
    "sam = SamGeo(\n",
    "    model_type=\"vit_h\",\n",
    "    checkpoint=\"sam_vit_h_4b8939.pth\",\n",
    "    sam_kwargs=None,\n",
    ")"
   ]
  },
  {
   "cell_type": "markdown",
   "metadata": {},
   "source": [
    "## Segment the image\n",
    "\n",
    "Set `batch=True` to segment the image in batches. This is useful for large images that cannot fit in memory."
   ]
  },
  {
   "cell_type": "code",
   "execution_count": 11,
   "metadata": {},
   "outputs": [
    {
     "name": "stderr",
     "output_type": "stream",
     "text": [
      "100%|██████████| 12/12 [00:35<00:00,  2.93s/it]\n"
     ]
    }
   ],
   "source": [
    "mask = \"segment.tif\"\n",
    "sam.generate(\n",
    "    image, mask, batch=True, foreground=True, erosion_kernel=(3, 3), mask_multiplier=255\n",
    ")"
   ]
  },
  {
   "cell_type": "markdown",
   "metadata": {},
   "source": [
    "## Polygonize the raster data\n",
    "\n",
    "Save the segmentation results as a GeoPackage file."
   ]
  },
  {
   "cell_type": "code",
   "execution_count": 12,
   "metadata": {},
   "outputs": [],
   "source": [
    "vector = \"segment.gpkg\"\n",
    "sam.tiff_to_gpkg(mask, vector, simplify_tolerance=None)"
   ]
  },
  {
   "cell_type": "markdown",
   "metadata": {},
   "source": [
    "You can also save the segmentation results as any vector data format supported by GeoPandas."
   ]
  },
  {
   "cell_type": "code",
   "execution_count": 13,
   "metadata": {},
   "outputs": [],
   "source": [
    "shapefile = \"segment.shp\"\n",
    "sam.tiff_to_vector(mask, shapefile)"
   ]
  },
  {
   "cell_type": "markdown",
   "metadata": {},
   "source": [
    "## Visualize the results"
   ]
  },
  {
   "cell_type": "code",
   "execution_count": 14,
   "metadata": {},
   "outputs": [
    {
     "data": {
      "application/vnd.jupyter.widget-view+json": {
       "model_id": "183696c8d536497ea757106a8247e42d",
       "version_major": 2,
       "version_minor": 0
      },
      "text/plain": [
       "Map(bottom=55514100.0, center=[29.676849999999995, -95.36919999999999], controls=(ZoomControl(options=['positi…"
      ]
     },
     "execution_count": 14,
     "metadata": {},
     "output_type": "execute_result"
    }
   ],
   "source": [
    "style = {\n",
    "    \"color\": \"#3388ff\",\n",
    "    \"weight\": 2,\n",
    "    \"fillColor\": \"#7c4185\",\n",
    "    \"fillOpacity\": 0.5,\n",
    "}\n",
    "m.add_vector(vector, layer_name=\"Vector\", style=style)\n",
    "m"
   ]
  },
  {
   "cell_type": "markdown",
   "metadata": {},
   "source": [
    "![](https://i.imgur.com/Ysq3u7E.png)"
   ]
  }
 ],
 "metadata": {
  "accelerator": "GPU",
  "colab": {
   "provenance": []
  },
  "gpuClass": "standard",
  "kernelspec": {
   "display_name": "Python 3",
   "name": "python3"
  },
  "language_info": {
   "codemirror_mode": {
    "name": "ipython",
    "version": 3
   },
   "file_extension": ".py",
   "mimetype": "text/x-python",
   "name": "python",
   "nbconvert_exporter": "python",
   "pygments_lexer": "ipython3",
   "version": "3.11.4"
  }
 },
 "nbformat": 4,
 "nbformat_minor": 0
}
